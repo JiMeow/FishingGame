{
 "cells": [
  {
   "cell_type": "code",
   "execution_count": 4,
   "metadata": {},
   "outputs": [],
   "source": [
    "dic = {}\n"
   ]
  },
  {
   "cell_type": "code",
   "execution_count": 5,
   "metadata": {},
   "outputs": [],
   "source": [
    "dic[50] = \"bush\"\n"
   ]
  },
  {
   "cell_type": "code",
   "execution_count": 6,
   "metadata": {},
   "outputs": [],
   "source": [
    "dic[161] = \"grass\"\n"
   ]
  },
  {
   "cell_type": "code",
   "execution_count": 7,
   "metadata": {},
   "outputs": [],
   "source": [
    "dic[68] = \"flower\"\n"
   ]
  },
  {
   "cell_type": "code",
   "execution_count": 8,
   "metadata": {},
   "outputs": [],
   "source": [
    "dic[101] = \"path\"\n",
    "dic[102] = \"path\"\n",
    "dic[103] = \"path\"\n",
    "dic[115] = \"stone\"\n",
    "dic[117] = \"path\"\n",
    "dic[118] = \"path\"\n",
    "dic[119] = \"path\"\n",
    "dic[131] = \"stone\"\n",
    "dic[133] = \"path\"\n",
    "dic[134] = \"path\"\n",
    "dic[135] = \"path\"\n"
   ]
  },
  {
   "cell_type": "code",
   "execution_count": 9,
   "metadata": {},
   "outputs": [],
   "source": [
    "dic[193] = \"patharoundwater\"\n",
    "dic[224] = \"patharoundwater\"\n",
    "dic[225] = \"patharoundwater\"\n",
    "dic[240] = \"patharoundwater\"\n",
    "dic[242] = \"patharoundwater\"\n",
    "dic[256] = \"patharoundwater\"\n",
    "dic[257] = \"patharoundwater\"\n",
    "dic[258] = \"patharoundwater\"\n"
   ]
  },
  {
   "cell_type": "code",
   "execution_count": 10,
   "metadata": {},
   "outputs": [],
   "source": [
    "dic[261] = \"bridge\"\n"
   ]
  },
  {
   "cell_type": "code",
   "execution_count": 11,
   "metadata": {},
   "outputs": [],
   "source": [
    "dic[274] = \"water\"\n",
    "dic[273] = \"wateroptional\"\n",
    "dic[290] = \"lillypad\"\n",
    "dic[272] = \"stoneunderwater\"\n",
    "dic[288] = \"stoneunderwater\"\n"
   ]
  },
  {
   "cell_type": "code",
   "execution_count": 12,
   "metadata": {},
   "outputs": [
    {
     "data": {
      "text/plain": [
       "{50: 'bush',\n",
       " 161: 'grass',\n",
       " 68: 'flower',\n",
       " 101: 'path',\n",
       " 102: 'path',\n",
       " 103: 'path',\n",
       " 115: 'stone',\n",
       " 117: 'path',\n",
       " 118: 'path',\n",
       " 119: 'path',\n",
       " 131: 'stone',\n",
       " 133: 'path',\n",
       " 134: 'path',\n",
       " 135: 'path',\n",
       " 193: 'patharoundwater',\n",
       " 224: 'patharoundwater',\n",
       " 225: 'patharoundwater',\n",
       " 240: 'patharoundwater',\n",
       " 242: 'patharoundwater',\n",
       " 256: 'patharoundwater',\n",
       " 257: 'patharoundwater',\n",
       " 258: 'patharoundwater',\n",
       " 261: 'bridge',\n",
       " 274: 'water',\n",
       " 273: 'wateroptional',\n",
       " 290: 'lillypad',\n",
       " 272: 'stoneunderwater',\n",
       " 288: 'stoneunderwater'}"
      ]
     },
     "execution_count": 12,
     "metadata": {},
     "output_type": "execute_result"
    }
   ],
   "source": [
    "dic\n"
   ]
  },
  {
   "cell_type": "code",
   "execution_count": null,
   "metadata": {},
   "outputs": [],
   "source": [
    "dic =  {50: 'bush',\n",
    "        161: 'grass',\n",
    "        68: 'flower',\n",
    "        101: 'path',\n",
    "        102: 'path',\n",
    "        103: 'path',\n",
    "        115: 'stone',\n",
    "        117: 'path',\n",
    "        118: 'path',\n",
    "        119: 'path',\n",
    "        131: 'stone',\n",
    "        133: 'path',\n",
    "        134: 'path',\n",
    "        135: 'path',\n",
    "        193: 'patharoundwater',\n",
    "        224: 'patharoundwater',\n",
    "        225: 'patharoundwater',\n",
    "        240: 'patharoundwater',\n",
    "        242: 'patharoundwater',\n",
    "        256: 'patharoundwater',\n",
    "        257: 'patharoundwater',\n",
    "        258: 'patharoundwater',\n",
    "        261: 'bridge',\n",
    "        274: 'water',\n",
    "        273: 'wateroptional',\n",
    "        290: 'lillypad',\n",
    "        272: 'stoneunderwater',\n",
    "        288: 'stoneunderwater'}\n"
   ]
  },
  {
   "cell_type": "code",
   "execution_count": 5,
   "metadata": {},
   "outputs": [],
   "source": [
    "namelist = '''\n",
    "Atlantic Bass\n",
    "Clownfish\n",
    "Dab\n",
    "Sea Spider\n",
    "Blue Gill\n",
    "Guppy\n",
    "Freshwater Snail\n",
    "Axolotl\n",
    "High Fin Banded Shark\n",
    "Golden Tench\n",
    "Moss Ball\n",
    "Plastic Bag\n",
    "Junonia\n",
    "Sand Dollar\n",
    "Starfish\n",
    "Bobber\n",
    "'''\n",
    "namelist = namelist.strip().split('\\n')"
   ]
  },
  {
   "cell_type": "code",
   "execution_count": 6,
   "metadata": {},
   "outputs": [
    {
     "data": {
      "text/plain": [
       "['Atlantic Bass',\n",
       " 'Clownfish',\n",
       " 'Dab',\n",
       " 'Sea Spider',\n",
       " 'Blue Gill',\n",
       " 'Guppy',\n",
       " 'Freshwater Snail',\n",
       " 'Axolotl',\n",
       " 'High Fin Banded Shark',\n",
       " 'Golden Tench',\n",
       " 'Moss Ball',\n",
       " 'Plastic Bag',\n",
       " 'Junonia',\n",
       " 'Sand Dollar',\n",
       " 'Starfish',\n",
       " 'Bobber']"
      ]
     },
     "execution_count": 6,
     "metadata": {},
     "output_type": "execute_result"
    }
   ],
   "source": [
    "namelist"
   ]
  },
  {
   "cell_type": "code",
   "execution_count": null,
   "metadata": {},
   "outputs": [],
   "source": []
  }
 ],
 "metadata": {
  "interpreter": {
   "hash": "183bbf6827d058c2a2fb0f4acdc0420849dda2b4380af0e437e38c64d798d8b7"
  },
  "kernelspec": {
   "display_name": "Python 3.8.8 ('base')",
   "language": "python",
   "name": "python3"
  },
  "language_info": {
   "codemirror_mode": {
    "name": "ipython",
    "version": 3
   },
   "file_extension": ".py",
   "mimetype": "text/x-python",
   "name": "python",
   "nbconvert_exporter": "python",
   "pygments_lexer": "ipython3",
   "version": "3.8.8"
  },
  "orig_nbformat": 4
 },
 "nbformat": 4,
 "nbformat_minor": 2
}
